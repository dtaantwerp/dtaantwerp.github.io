{
 "cells": [
  {
   "cell_type": "markdown",
   "metadata": {},
   "source": [
    "<div style=\"background-color:lightgrey;\n",
    "            padding:10px;\n",
    "            color:black;\n",
    "            border:black dashed 2px; \n",
    "            border-radius:5px;\n",
    "            margin: 20px 0;\">\n",
    "            \n",
    "            \n",
    "# Object Orientation II (Case Study)\n",
    "\n",
    "\n",
    "\n",
    "**Staff:** Mike Kestemont <br/>\n",
    "**Support Material:** None <br/>\n",
    "**Support Sessions:**  None\n",
    "\n",
    "</div>"
   ]
  },
  {
   "cell_type": "markdown",
   "metadata": {},
   "source": [
    "## Objects, Plato and Cookies"
   ]
  },
  {
   "cell_type": "markdown",
   "metadata": {},
   "source": [
    "Python is what people call an **object-oriented** programming language nowadays, meaning that **objects** are key to the way you program in it. In fact, you have worked a lot with objects already in Python, because *everthing* in Python is an object, including the most primitive stuff like integers or strings. To understand what objects are, it useful to turn to Plato's **Allegory of the Cave**.\n",
    "\n",
    "> Question: Can you remember what was the deal with Plato's ideas?\n",
    "\n",
    "<img src=\"https://faculty.washington.edu/smcohen/320/platoscave.gif\"/>"
   ]
  },
  {
   "cell_type": "markdown",
   "metadata": {},
   "source": [
    "Whenever I think of Plato, I always think of cookies:"
   ]
  },
  {
   "cell_type": "markdown",
   "metadata": {},
   "source": [
    "<img src='https://images.kitchenstories.io/wagtailOriginalImages/A1050-lisa-final/A1050-lisa-final-large-landscape-150.jpg'/>"
   ]
  },
  {
   "cell_type": "markdown",
   "metadata": {},
   "source": [
    "In Plato's philosophy, there something like the \"ideal chocolate chip cookie\": the ideal or \"mould\" from which all cookies are made or copied. The ideal is a very abstract cookie that is never actually observed: that is because no copy is perfect and since all the actual cookies are slightly different from another, and from the ideal.\n",
    "\n",
    "Now, when working with object in Python, I want you to think of baking cookies with Plato. Execute this line:"
   ]
  },
  {
   "cell_type": "code",
   "execution_count": 2,
   "metadata": {},
   "outputs": [],
   "source": [
    "from collections import Counter\n",
    "cnt = Counter()"
   ]
  },
  {
   "cell_type": "markdown",
   "metadata": {},
   "source": [
    "Executing this line, or calling the **constructor**, is like baking (or \"constructing\") a single cookie using the `Counter` mould. The  constructor returns you an actual copy/cookie, constructed/baked on the basis of the abstract `Counter` **object** that lives as a blueprint, somewhere in the `collections` module that we imported it from."
   ]
  },
  {
   "cell_type": "markdown",
   "metadata": {},
   "source": [
    "<img src=\"https://i.etsystatic.com/22388311/r/il/32b3e5/2322918611/il_1588xN.2322918611_8o8l.jpg\"/>"
   ]
  },
  {
   "cell_type": "markdown",
   "metadata": {},
   "source": [
    "Just like with real cookies, it's perfectly possible to instantiate multiple, independent cookies from the same mould (the mould always stays the same!)."
   ]
  },
  {
   "cell_type": "code",
   "execution_count": 3,
   "metadata": {},
   "outputs": [],
   "source": [
    "cnt1 = Counter()\n",
    "cnt2 = Counter()\n",
    "cnt3 = Counter()"
   ]
  },
  {
   "cell_type": "markdown",
   "metadata": {},
   "source": [
    "> **Note:** constructors are often written with a capital letter by convention, and the actual instances, with a lowercase character."
   ]
  },
  {
   "cell_type": "markdown",
   "metadata": {},
   "source": [
    "Do you get the similarity between a `Counter` and a Platonic ideal, blueprint, or template? Only, in Python, such an abstract template is called a **class**. When you ask for the `type()` of any object in Python, you're really asking: *from which mould was this cookie made*? What was the **class** that you used to instantiate this object?"
   ]
  },
  {
   "cell_type": "code",
   "execution_count": 4,
   "metadata": {},
   "outputs": [
    {
     "data": {
      "text/plain": [
       "collections.Counter"
      ]
     },
     "execution_count": 4,
     "metadata": {},
     "output_type": "execute_result"
    }
   ],
   "source": [
    "type(cnt3)"
   ]
  },
  {
   "cell_type": "markdown",
   "metadata": {},
   "source": [
    "Constructors can do more than just construe objects. Depending on the class definition, you can pass parameters to it to initialize certain aspects and parameters of the object. In the case of the `Counter` class, for instance, you can pass an **iterable** to the constructor: the newly created object returned will automatically hold the correct counts:"
   ]
  },
  {
   "cell_type": "code",
   "execution_count": 11,
   "metadata": {},
   "outputs": [
    {
     "name": "stdout",
     "output_type": "stream",
     "text": [
      "Counter({' ': 114, 'e': 31, 'a': 27, 'u': 25, 'i': 21, 't': 20, 'r': 17, 'm': 17, 'o': 17, 's': 14, 'n': 12, 'l': 11, ',': 9, 'q': 8, '\\n': 6, 'v': 5, 'p': 5, 'b': 5, 'd': 4, 'c': 3, 'f': 3, 'L': 3, 'A': 2, 'I': 2, 'g': 2, 'T': 1, ';': 1, 'R': 1, '.': 1})\n"
     ]
    }
   ],
   "source": [
    "aeneid = \"\"\"Arma virumque cano, Troiae qui primus ab oris\n",
    "            Italiam, fato profugus, Laviniaque venit\n",
    "            litora, multum ille et terris iactatus et alto\n",
    "            vi superum saevae memorem Iunonis ob iram;\n",
    "            multa quoque et bello passus, dum conderet urbem,\n",
    "            inferretque deos Latio, genus unde Latinum, \n",
    "            Albanique patres, atque altae moenia Romae.\"\"\"\n",
    "\n",
    "freqs = Counter(aeneid)\n",
    "print(freqs)"
   ]
  },
  {
   "cell_type": "markdown",
   "metadata": {},
   "source": [
    "> **Question:** With `Counter`, you can extract crucial frequency information with compact **oneliners**. Can you figure out what the following block does? (We won't win a beauty context with it, but still.) Unpack the oneliner, step by step, and start with the innermost part."
   ]
  },
  {
   "cell_type": "code",
   "execution_count": 12,
   "metadata": {},
   "outputs": [
    {
     "data": {
      "text/plain": [
       "'et'"
      ]
     },
     "execution_count": 12,
     "metadata": {},
     "output_type": "execute_result"
    }
   ],
   "source": [
    "virgils_favorite = Counter(aeneid.split()).most_common(1)[0][0]\n",
    "virgils_favorite"
   ]
  },
  {
   "cell_type": "markdown",
   "metadata": {},
   "source": [
    "If we return to our cookies, then we already established that the class is the blueprint - or the mould - of our cookies. This mould can then be used to instantiate individual cookies. \n",
    "\n",
    "The cookies which we make in this way have certain characteristics (e.g. a cookie is sweet) and certain behaviors (e.g. the cookies can be baked). In coding language we would call these **attributes** and **methods** respectively. \n",
    "\n"
   ]
  },
  {
   "cell_type": "markdown",
   "metadata": {},
   "source": [
    "> **Question:** Try to think of things that you encounter in real life, which of these concepts could we convert into specific classes? What would their attributes and methods be?"
   ]
  },
  {
   "cell_type": "markdown",
   "metadata": {},
   "source": [
    "During the rest of your coding life, you will continue to work with many objects. Some of these can be very abstract. "
   ]
  },
  {
   "cell_type": "markdown",
   "metadata": {},
   "source": [
    "## Methods versus functions"
   ]
  },
  {
   "cell_type": "markdown",
   "metadata": {},
   "source": [
    "When we want to apply the behaviors which we have specified earlier, then we will call functions on our instances to make something happen. Pay attention to the language here: we say that we call functions *on* an instance. We don't just pass the instance to any function. To appreciate this distinction, let's work with an example:"
   ]
  },
  {
   "cell_type": "code",
   "execution_count": 13,
   "metadata": {
    "scrolled": true
   },
   "outputs": [
    {
     "name": "stdout",
     "output_type": "stream",
     "text": [
      "['A', 'r', 'm', 'a', ' ', 'v', 'i', 'r', 'u', 'm', 'q', 'u', 'e', ' ', 'c', 'a', 'n', 'o', ',', ' ']\n",
      "<class 'list'>\n"
     ]
    }
   ],
   "source": [
    "l = list(aeneid) # constructor\n",
    "print(l[:20])\n",
    "print(type(l))"
   ]
  },
  {
   "cell_type": "markdown",
   "metadata": {},
   "source": [
    "By now, you should understand better what we're doing here: we're creating an instance of the class `List` by calling the constructor function `list()` and passing it an iterable (`aeneid`, a string) to initialize it."
   ]
  },
  {
   "cell_type": "markdown",
   "metadata": {},
   "source": [
    "To sort the list, we now have two options. There exist subtle differences between them. The first option is to pass `l` to the general function `sorted`:"
   ]
  },
  {
   "cell_type": "code",
   "execution_count": 14,
   "metadata": {},
   "outputs": [
    {
     "name": "stdout",
     "output_type": "stream",
     "text": [
      "['\\n', '\\n', '\\n', '\\n', '\\n', '\\n', ' ', ' ', ' ', ' ', ' ', ' ', ' ', ' ', ' ', ' ', ' ', ' ', ' ', ' ', ' ', ' ', ' ', ' ', ' ', ' ', ' ', ' ', ' ', ' ', ' ', ' ', ' ', ' ', ' ', ' ', ' ', ' ', ' ', ' ', ' ', ' ', ' ', ' ', ' ', ' ', ' ', ' ', ' ', ' ', ' ', ' ', ' ', ' ', ' ', ' ', ' ', ' ', ' ', ' ', ' ', ' ', ' ', ' ', ' ', ' ', ' ', ' ', ' ', ' ', ' ', ' ', ' ', ' ', ' ', ' ', ' ', ' ', ' ', ' ', ' ', ' ', ' ', ' ', ' ', ' ', ' ', ' ', ' ', ' ', ' ', ' ', ' ', ' ', ' ', ' ', ' ', ' ', ' ', ' ', ' ', ' ', ' ', ' ', ' ', ' ', ' ', ' ', ' ', ' ', ' ', ' ', ' ', ' ', ' ', ' ', ' ', ' ', ' ', ' ', ',', ',', ',', ',', ',', ',', ',', ',', ',', '.', ';', 'A', 'A', 'I', 'I', 'L', 'L', 'L', 'R', 'T', 'a', 'a', 'a', 'a', 'a', 'a', 'a', 'a', 'a', 'a', 'a', 'a', 'a', 'a', 'a', 'a', 'a', 'a', 'a', 'a', 'a', 'a', 'a', 'a', 'a', 'a', 'a', 'b', 'b', 'b', 'b', 'b', 'c', 'c', 'c', 'd', 'd', 'd', 'd', 'e', 'e', 'e', 'e', 'e', 'e', 'e', 'e', 'e', 'e', 'e', 'e', 'e', 'e', 'e', 'e', 'e', 'e', 'e', 'e', 'e', 'e', 'e', 'e', 'e', 'e', 'e', 'e', 'e', 'e', 'e', 'f', 'f', 'f', 'g', 'g', 'i', 'i', 'i', 'i', 'i', 'i', 'i', 'i', 'i', 'i', 'i', 'i', 'i', 'i', 'i', 'i', 'i', 'i', 'i', 'i', 'i', 'l', 'l', 'l', 'l', 'l', 'l', 'l', 'l', 'l', 'l', 'l', 'm', 'm', 'm', 'm', 'm', 'm', 'm', 'm', 'm', 'm', 'm', 'm', 'm', 'm', 'm', 'm', 'm', 'n', 'n', 'n', 'n', 'n', 'n', 'n', 'n', 'n', 'n', 'n', 'n', 'o', 'o', 'o', 'o', 'o', 'o', 'o', 'o', 'o', 'o', 'o', 'o', 'o', 'o', 'o', 'o', 'o', 'p', 'p', 'p', 'p', 'p', 'q', 'q', 'q', 'q', 'q', 'q', 'q', 'q', 'r', 'r', 'r', 'r', 'r', 'r', 'r', 'r', 'r', 'r', 'r', 'r', 'r', 'r', 'r', 'r', 'r', 's', 's', 's', 's', 's', 's', 's', 's', 's', 's', 's', 's', 's', 's', 't', 't', 't', 't', 't', 't', 't', 't', 't', 't', 't', 't', 't', 't', 't', 't', 't', 't', 't', 't', 'u', 'u', 'u', 'u', 'u', 'u', 'u', 'u', 'u', 'u', 'u', 'u', 'u', 'u', 'u', 'u', 'u', 'u', 'u', 'u', 'u', 'u', 'u', 'u', 'u', 'v', 'v', 'v', 'v', 'v']\n"
     ]
    }
   ],
   "source": [
    "sorted_list = sorted(l)\n",
    "print(sorted_list)"
   ]
  },
  {
   "cell_type": "markdown",
   "metadata": {},
   "source": [
    "Thus, `sorted(l)` takes the original list and returns a sorted version of it. What it returns is a sorted **copy** of the original `l`; this is crucial: `sorted` leaves the original `l` intact:"
   ]
  },
  {
   "cell_type": "code",
   "execution_count": 15,
   "metadata": {},
   "outputs": [
    {
     "name": "stdout",
     "output_type": "stream",
     "text": [
      "['A', 'r', 'm', 'a', ' ', 'v', 'i', 'r', 'u', 'm', 'q', 'u', 'e', ' ', 'c', 'a', 'n', 'o', ',', ' ']\n"
     ]
    }
   ],
   "source": [
    "print(l[:20])"
   ]
  },
  {
   "cell_type": "markdown",
   "metadata": {},
   "source": [
    "Note that we can call `sorted()` on many more iterables (like strings). It's a general function, not tied specifically to lists."
   ]
  },
  {
   "cell_type": "markdown",
   "metadata": {},
   "source": [
    "The second alternative is to call `sort()` **on** the original list itself:"
   ]
  },
  {
   "cell_type": "code",
   "execution_count": 16,
   "metadata": {},
   "outputs": [],
   "source": [
    "l.sort()"
   ]
  },
  {
   "cell_type": "markdown",
   "metadata": {},
   "source": [
    "Nothing was printed above... That's normal and comes from the fact that `sort()` will (tacitly) sort the original string on which it was called, but it *doesn't return anything afterwards*:"
   ]
  },
  {
   "cell_type": "code",
   "execution_count": 17,
   "metadata": {},
   "outputs": [
    {
     "name": "stdout",
     "output_type": "stream",
     "text": [
      "None\n",
      "['\\n', '\\n', '\\n', '\\n', '\\n', '\\n', ' ', ' ', ' ', ' ', ' ', ' ', ' ', ' ', ' ', ' ', ' ', ' ', ' ', ' ', ' ', ' ', ' ', ' ', ' ', ' ', ' ', ' ', ' ', ' ', ' ', ' ', ' ', ' ', ' ', ' ', ' ', ' ', ' ', ' ', ' ', ' ', ' ', ' ', ' ', ' ', ' ', ' ', ' ', ' ', ' ', ' ', ' ', ' ', ' ', ' ', ' ', ' ', ' ', ' ', ' ', ' ', ' ', ' ', ' ', ' ', ' ', ' ', ' ', ' ', ' ', ' ', ' ', ' ', ' ', ' ', ' ', ' ', ' ', ' ', ' ', ' ', ' ', ' ', ' ', ' ', ' ', ' ', ' ', ' ', ' ', ' ', ' ', ' ', ' ', ' ', ' ', ' ', ' ', ' ', ' ', ' ', ' ', ' ', ' ', ' ', ' ', ' ', ' ', ' ', ' ', ' ', ' ', ' ', ' ', ' ', ' ', ' ', ' ', ' ', ',', ',', ',', ',', ',', ',', ',', ',', ',', '.', ';', 'A', 'A', 'I', 'I', 'L', 'L', 'L', 'R', 'T', 'a', 'a', 'a', 'a', 'a', 'a', 'a', 'a', 'a', 'a', 'a', 'a', 'a', 'a', 'a', 'a', 'a', 'a', 'a', 'a', 'a', 'a', 'a', 'a', 'a', 'a', 'a', 'b', 'b', 'b', 'b', 'b', 'c', 'c', 'c', 'd', 'd', 'd', 'd', 'e', 'e', 'e', 'e', 'e', 'e', 'e', 'e', 'e', 'e', 'e', 'e', 'e', 'e', 'e', 'e', 'e', 'e', 'e', 'e', 'e', 'e', 'e', 'e', 'e', 'e', 'e', 'e', 'e', 'e', 'e', 'f', 'f', 'f', 'g', 'g', 'i', 'i', 'i', 'i', 'i', 'i', 'i', 'i', 'i', 'i', 'i', 'i', 'i', 'i', 'i', 'i', 'i', 'i', 'i', 'i', 'i', 'l', 'l', 'l', 'l', 'l', 'l', 'l', 'l', 'l', 'l', 'l', 'm', 'm', 'm', 'm', 'm', 'm', 'm', 'm', 'm', 'm', 'm', 'm', 'm', 'm', 'm', 'm', 'm', 'n', 'n', 'n', 'n', 'n', 'n', 'n', 'n', 'n', 'n', 'n', 'n', 'o', 'o', 'o', 'o', 'o', 'o', 'o', 'o', 'o', 'o', 'o', 'o', 'o', 'o', 'o', 'o', 'o', 'p', 'p', 'p', 'p', 'p', 'q', 'q', 'q', 'q', 'q', 'q', 'q', 'q', 'r', 'r', 'r', 'r', 'r', 'r', 'r', 'r', 'r', 'r', 'r', 'r', 'r', 'r', 'r', 'r', 'r', 's', 's', 's', 's', 's', 's', 's', 's', 's', 's', 's', 's', 's', 's', 't', 't', 't', 't', 't', 't', 't', 't', 't', 't', 't', 't', 't', 't', 't', 't', 't', 't', 't', 't', 'u', 'u', 'u', 'u', 'u', 'u', 'u', 'u', 'u', 'u', 'u', 'u', 'u', 'u', 'u', 'u', 'u', 'u', 'u', 'u', 'u', 'u', 'u', 'u', 'u', 'v', 'v', 'v', 'v', 'v']\n"
     ]
    }
   ],
   "source": [
    "print(l.sort())\n",
    "print(l)"
   ]
  },
  {
   "cell_type": "markdown",
   "metadata": {},
   "source": [
    "This kind of sorting is called **in-place** sorting. This is because `sort()` isn't just any function: it is a function that is bound to this specific list (i.e. it was part of the cookie mould that we used to construct the object). It has privileged access to the object, which is why it can sort the string directly. Functions are called **methods** in Python, when they are tied to a special object, instead of just floating around. This is an important distinction:\n",
    "\n",
    "- all methods are functions, but not all functions are methods\n",
    "- methods can only be called on the objects of a specific class (note that we cannot call `.sort()` on a string)"
   ]
  },
  {
   "cell_type": "markdown",
   "metadata": {},
   "source": [
    "## Home-Baked Cookies"
   ]
  },
  {
   "cell_type": "markdown",
   "metadata": {},
   "source": [
    "We should stress that this last section isn't crucial in your learning trajectory at this stage. What we want to demonstrate is how you yourself can fairly easily implement your own classes in Python. It will probably take a while, before you will start doing this, simply because you won't feel the need: there's a whole range of classes out there already that you can just import from external packages. Nevertheless, working through a simple example will enhance your grasp of what \"object orientation\" really means.\n",
    "\n",
    "As an example, we will re-implement, or **reverse engineer**, a lightweight, stripped down version of the `Counter` class. The first thing that we will need is a name for our class and a constructor function. The syntax for this is as follows:"
   ]
  },
  {
   "cell_type": "code",
   "execution_count": 18,
   "metadata": {},
   "outputs": [],
   "source": [
    "class OurCounter:\n",
    "    \n",
    "    def __init__(self):\n",
    "        pass"
   ]
  },
  {
   "cell_type": "markdown",
   "metadata": {},
   "source": [
    "This is a super-minimalistic example, since we don't do more than:\n",
    "- declaring a name for our class (`class OurCounter:`)\n",
    "- specify what should happen when somebody calls the constructor method, inside the `__init__()` function\n",
    "\n",
    "Note that the constructor looks like a normal function definition, but:\n",
    "- it is indented to make clear that it is a **method** that is tied to the OurCounter Class\n",
    "- it takes a special, dedicated name (`__init__`) -- so that Python can properly identify it as being the constructor\n",
    "- it requires a special input argument, **self**: this is a pointer to the object itself\n",
    "- it is a **stub** currently -- note the use of `pass` **keyword** that we throw in as a placeholder (and which doesn't do anything)\n",
    "\n",
    "Nevertheless, we can already use this class definition to initialize an instance, and check its type:"
   ]
  },
  {
   "cell_type": "code",
   "execution_count": 19,
   "metadata": {},
   "outputs": [
    {
     "name": "stdout",
     "output_type": "stream",
     "text": [
      "<class '__main__.OurCounter'>\n"
     ]
    }
   ],
   "source": [
    "cnt = OurCounter()\n",
    "print(type(cnt))"
   ]
  },
  {
   "cell_type": "markdown",
   "metadata": {},
   "source": [
    "Above you could see that `Counter` acts as a kind of wrapper around the conventional `dict` class. It basically inherits much of the functionality of a `dict` but adds much additional stuff. For our purposes, it would make sense to add a dict to the `OurCounter` object. We can achieve that as follows:"
   ]
  },
  {
   "cell_type": "code",
   "execution_count": 20,
   "metadata": {},
   "outputs": [],
   "source": [
    "class OurCounter:\n",
    "    \n",
    "    def __init__(self):\n",
    "        self.d = {}"
   ]
  },
  {
   "cell_type": "markdown",
   "metadata": {},
   "source": [
    "This is where the `self` keyword comes in handy: we use it to assign a dictionary to the object. That means that we can actually access the `dict` from the `OurCounter`, after we've instantiated it, using the following **dot syntax** that you can apply to access all sort of stuff that is tied to your object:"
   ]
  },
  {
   "cell_type": "code",
   "execution_count": 22,
   "metadata": {},
   "outputs": [
    {
     "name": "stdout",
     "output_type": "stream",
     "text": [
      "{}\n"
     ]
    }
   ],
   "source": [
    "cnt = OurCounter()\n",
    "print(cnt.d)"
   ]
  },
  {
   "cell_type": "markdown",
   "metadata": {},
   "source": [
    "However, the goal of working with object orientation is **abstraction**: our goal is to make sure that the user doesn't have to care about the dictionary. Let us now create an `add` function, that takes a key and the value (an `int`) by which the value for that key should be incremented. "
   ]
  },
  {
   "cell_type": "code",
   "execution_count": 23,
   "metadata": {},
   "outputs": [],
   "source": [
    "class OurCounter:\n",
    "    \n",
    "    def __init__(self):\n",
    "        self.d = {}\n",
    "        \n",
    "    def add(self, key, value=1):\n",
    "        try:\n",
    "            self.d[key] += value\n",
    "        except KeyError:\n",
    "            self.d[key] = value"
   ]
  },
  {
   "cell_type": "markdown",
   "metadata": {},
   "source": [
    "There are several important aspects here to be discussed:\n",
    "- we still need to add that weird `self` thingy as the  first argument to the method definition\n",
    "- we assign a default value of 1 for the increment value\n",
    "- we abstract over the default behaviour of a dictionary and take care of checking whether they  key is already present in the dictionary. (The user shouldn't have to care about this: this is the essence of **abstraction** in programming)\n",
    "- inside the method, we access the `dict` associated with our object as `self.d`, because it's a property stored with the object itself. Pay attention to the **inside view** that we take here: the object uses the keyword `self` to refer to itself."
   ]
  },
  {
   "cell_type": "markdown",
   "metadata": {},
   "source": [
    "We can now use and test that method as follows:"
   ]
  },
  {
   "cell_type": "code",
   "execution_count": 24,
   "metadata": {},
   "outputs": [
    {
     "name": "stdout",
     "output_type": "stream",
     "text": [
      "{'a': 6, 'b': 3}\n"
     ]
    }
   ],
   "source": [
    "cnt = OurCounter()\n",
    "cnt.add('a', 1)\n",
    "cnt.add('b', 3)\n",
    "cnt.add('a', 5)\n",
    "print(cnt.d)"
   ]
  },
  {
   "cell_type": "markdown",
   "metadata": {},
   "source": [
    "Adding a `most_common` method uses the same logic:"
   ]
  },
  {
   "cell_type": "code",
   "execution_count": 26,
   "metadata": {},
   "outputs": [],
   "source": [
    "from operator import itemgetter\n",
    "\n",
    "class OurCounter:\n",
    "    \n",
    "    def __init__(self):\n",
    "        self.d = {}\n",
    "        \n",
    "    def add(self, key, value=1):\n",
    "        try:\n",
    "            self.d[key] += value\n",
    "        except KeyError:\n",
    "            self.d[key] = value\n",
    "            \n",
    "    def most_common(self, topn=None):\n",
    "        items = self.d.items()                   # extract key-value pairs\n",
    "        items = sorted(items, key=itemgetter(1)) # sort by value\n",
    "        items = items[::-1]                      # decreasing instead of increasing order\n",
    "        return items[:topn]                      # chop off the top using topn argument"
   ]
  },
  {
   "cell_type": "code",
   "execution_count": 27,
   "metadata": {},
   "outputs": [
    {
     "data": {
      "text/plain": [
       "[('c', 15), ('e', 9), ('d', 4)]"
      ]
     },
     "execution_count": 27,
     "metadata": {},
     "output_type": "execute_result"
    }
   ],
   "source": [
    "cnt = OurCounter()\n",
    "cnt.add('a', 1)\n",
    "cnt.add('b', 3)\n",
    "cnt.add('c', 15)\n",
    "cnt.add('d', 4)\n",
    "cnt.add('e', 9)\n",
    "cnt.most_common(3)"
   ]
  },
  {
   "cell_type": "markdown",
   "metadata": {},
   "source": [
    "Do you see how we hide all of the ugly code from the user? From here on onwards, the options are endless. We can adapt the constructor of our class for instance, to allow users to fill the dictionary immediately upon construction:"
   ]
  },
  {
   "cell_type": "code",
   "execution_count": 28,
   "metadata": {},
   "outputs": [],
   "source": [
    "class OurCounter:\n",
    "    \n",
    "    def __init__(self, iterable=None):\n",
    "        self.d = {}\n",
    "        if iterable:\n",
    "            for value in iterable:\n",
    "                self.add(value)\n",
    "        \n",
    "    def add(self, key, value=1):\n",
    "        try:\n",
    "            self.d[key] += value\n",
    "        except KeyError:\n",
    "            self.d[key] = value\n",
    "            \n",
    "    def most_common(self, topn=None):\n",
    "        items = self.d.items()                   # extract key-value pairs\n",
    "        items = sorted(items, key=itemgetter(1)) # sort by value\n",
    "        items = items[::-1]                      # decreasing instead of increasing order\n",
    "        return items[:topn]                      # chop off the top using topn argument"
   ]
  },
  {
   "cell_type": "markdown",
   "metadata": {},
   "source": [
    "This is probably a lot to take in, but notice how cool it is that inside the constructor, we can actually already use the methods that are defined further down (`self.add(value)`, with a default of `1` for the increment)! Now, we are getting really close to a full-blown counter:"
   ]
  },
  {
   "cell_type": "code",
   "execution_count": 29,
   "metadata": {},
   "outputs": [
    {
     "data": {
      "text/plain": [
       "[(' ', 114), ('e', 31), ('a', 27), ('u', 25), ('i', 21)]"
      ]
     },
     "execution_count": 29,
     "metadata": {},
     "output_type": "execute_result"
    }
   ],
   "source": [
    "cnt = OurCounter(aeneid)\n",
    "cnt.most_common(5)"
   ]
  },
  {
   "cell_type": "markdown",
   "metadata": {},
   "source": [
    "One final gimmick is that we can gain control over how our object gets printed. Note how the standard Counter returns the underlying `dict` as follows:"
   ]
  },
  {
   "cell_type": "code",
   "execution_count": 30,
   "metadata": {},
   "outputs": [
    {
     "name": "stdout",
     "output_type": "stream",
     "text": [
      "Counter({' ': 114, 'e': 31, 'a': 27, 'u': 25, 'i': 21, 't': 20, 'r': 17, 'm': 17, 'o': 17, 's': 14, 'n': 12, 'l': 11, ',': 9, 'q': 8, '\\n': 6, 'v': 5, 'p': 5, 'b': 5, 'd': 4, 'c': 3, 'f': 3, 'L': 3, 'A': 2, 'I': 2, 'g': 2, 'T': 1, ';': 1, 'R': 1, '.': 1})\n"
     ]
    }
   ],
   "source": [
    "cnt = Counter(aeneid) # standard counter!\n",
    "print(cnt)"
   ]
  },
  {
   "cell_type": "markdown",
   "metadata": {},
   "source": [
    "We can easily tweak our class definition to do the same, by **overriding** the standard string representation methods that all objects in Python have:"
   ]
  },
  {
   "cell_type": "code",
   "execution_count": 31,
   "metadata": {},
   "outputs": [],
   "source": [
    "class OurCounter:\n",
    "    \n",
    "    def __init__(self, iterable=None):\n",
    "        self.d = {}\n",
    "        if iterable:\n",
    "            for value in iterable:\n",
    "                self.add(value, 1)\n",
    "        \n",
    "    def add(self, key, value=1):\n",
    "        try:\n",
    "            self.d[key] += value\n",
    "        except KeyError:\n",
    "            self.d[key] = value\n",
    "            \n",
    "    def most_common(self, topn=None):\n",
    "        items = self.d.items()                   # extract key-value pairs\n",
    "        items = sorted(items, key=itemgetter(1)) # sort by value\n",
    "        items = items[::-1]                      # decreasing instead of increasing order\n",
    "        return items[:topn]                      # chop off the top using topn argument\n",
    "    \n",
    "    def __str__(self):\n",
    "        info = str(self.d)\n",
    "        info = 'OurCounter(' + info +')'\n",
    "        return info"
   ]
  },
  {
   "cell_type": "markdown",
   "metadata": {},
   "source": [
    "Note the fancy underscores surrounding the method name (`__str__(self)`). This indicates that we overriding some pretty basic, **low-level** functionaliy  of the Python object. Check out what happens when we now print our object:"
   ]
  },
  {
   "cell_type": "code",
   "execution_count": 32,
   "metadata": {},
   "outputs": [
    {
     "name": "stdout",
     "output_type": "stream",
     "text": [
      "OurCounter({'A': 2, 'r': 17, 'm': 17, 'a': 27, ' ': 114, 'v': 5, 'i': 21, 'u': 25, 'q': 8, 'e': 31, 'c': 3, 'n': 12, 'o': 17, ',': 9, 'T': 1, 'p': 5, 's': 14, 'b': 5, '\\n': 6, 'I': 2, 't': 20, 'l': 11, 'f': 3, 'g': 2, 'L': 3, ';': 1, 'd': 4, 'R': 1, '.': 1})\n"
     ]
    }
   ],
   "source": [
    "cnt = OurCounter(aeneid)\n",
    "print(cnt)"
   ]
  },
  {
   "cell_type": "markdown",
   "metadata": {},
   "source": [
    "Finally, remember, this section is for illustration purposes only: we don't expect you to be able to define your own classes in the near future. (Just working with existing ones can be challenging enough!). Nevertheless, we do think that reading through this section might help you to understand what a class does and how to interact with such objects."
   ]
  },
  {
   "cell_type": "markdown",
   "metadata": {},
   "source": [
    "#### Exercise (easy)\n",
    "\n",
    "Download a plain text novel from Gutenberg. Work on your `Counter` skills and use an instance of the class to:\n",
    "- make a character-level frequency dictionary: what are the three most frequent characters?\n",
    "- make a word-level frequency dictionary: what are the three most frequent word tokens?\n",
    "- make a list of `Counter` objects, containing a character-level frequency dictionary for each line."
   ]
  },
  {
   "cell_type": "markdown",
   "metadata": {},
   "source": [
    "#### Exercise (advanced)\n",
    "\n",
    "Object orientation is a useful **model** to reproduce or mimic the real world in a coding universe. Implement a software system for a library with classes that correspond to:\n",
    "- books\n",
    "- users\n",
    "- staff members\n",
    "\n",
    "Think about the properties and behaviour that each of these classes should offer, for example:\n",
    "1. books should have titles, shelfmarks and a year of publication\n",
    "2. (only) staff members can check out books and add them to the set of books that a user has on loan\n",
    "3. users should have a name and a list of books that they currently have on loan\n",
    "4. etc."
   ]
  }
 ],
 "metadata": {
  "kernelspec": {
   "display_name": "Python 3 (ipykernel)",
   "language": "python",
   "name": "python3"
  },
  "language_info": {
   "codemirror_mode": {
    "name": "ipython",
    "version": 3
   },
   "file_extension": ".py",
   "mimetype": "text/x-python",
   "name": "python",
   "nbconvert_exporter": "python",
   "pygments_lexer": "ipython3",
   "version": "3.8.2"
  }
 },
 "nbformat": 4,
 "nbformat_minor": 4
}
