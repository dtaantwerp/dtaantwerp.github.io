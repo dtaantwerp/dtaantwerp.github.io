{
 "cells": [
  {
   "cell_type": "markdown",
   "id": "intellectual-person",
   "metadata": {},
   "source": [
    "# Functions"
   ]
  },
  {
   "cell_type": "markdown",
   "id": "superb-gossip",
   "metadata": {},
   "source": [
    "**Staff**: Jens Lemmens\n",
    "\n",
    "**Support material**: Class [notebook](https://github.com/dtaantwerp/dtaantwerp.github.io/blob/master/notebooks2021/11_Week2_Wednesday_Functions.ipynb)"
   ]
  },
  {
   "cell_type": "markdown",
   "id": "relevant-donna",
   "metadata": {},
   "source": [
    "#### Exercise 1: Replicate the \"len()\" function\n",
    "The function should take an iterable as its only argument and return the length of that iterable (without using \"len()\"). Test whether your function works by applying it to a string, list, dictionary and tuple."
   ]
  },
  {
   "cell_type": "code",
   "execution_count": 1,
   "id": "printable-theology",
   "metadata": {},
   "outputs": [],
   "source": [
    "def my_len(iterable):\n",
    "    length = 0\n",
    "    for i in iterable:\n",
    "        length += 1\n",
    "    return length"
   ]
  },
  {
   "cell_type": "code",
   "execution_count": 2,
   "id": "legislative-edwards",
   "metadata": {},
   "outputs": [
    {
     "name": "stdout",
     "output_type": "stream",
     "text": [
      "4\n",
      "5\n",
      "8\n",
      "4\n"
     ]
    }
   ],
   "source": [
    "print(my_len('word'))\n",
    "print(my_len(['this', 'is', 'a', 'tokenized', 'sentence']))\n",
    "print(my_len({0: 'this', 1: 'is', 2: 'a', 3: 'tokenized', 4: 'sentence', 5: 'with', 6:'token', 7:'positions'}))\n",
    "print(my_len(('this', 'is', 'a', 'tuple')))"
   ]
  },
  {
   "cell_type": "markdown",
   "id": "pleasant-purse",
   "metadata": {},
   "source": [
    "#### Exercise 2.a: Replicate the \"sum()\" function\n",
    "Define a function that takes a list of numbers as its only argument and that returns the sum of the numbers in that list (do not use \"sum()\" itself)"
   ]
  },
  {
   "cell_type": "code",
   "execution_count": 3,
   "id": "disciplinary-therapist",
   "metadata": {},
   "outputs": [],
   "source": [
    "def my_sum(lst):\n",
    "    output = 0\n",
    "    for n in lst:\n",
    "        output += n\n",
    "    return output"
   ]
  },
  {
   "cell_type": "code",
   "execution_count": 4,
   "id": "brazilian-friendly",
   "metadata": {},
   "outputs": [
    {
     "data": {
      "text/plain": [
       "15"
      ]
     },
     "execution_count": 4,
     "metadata": {},
     "output_type": "execute_result"
    }
   ],
   "source": [
    "#test your function here\n",
    "my_sum([1, 2, 3, 4, 5]) "
   ]
  },
  {
   "cell_type": "markdown",
   "id": "initial-water",
   "metadata": {},
   "source": [
    "#### Exercise 2.b: Replicate the \"sum()\" function\n",
    "Same as 2.a, but instead of a list, use any number of integers or floats as input"
   ]
  },
  {
   "cell_type": "code",
   "execution_count": 5,
   "id": "decimal-barbados",
   "metadata": {},
   "outputs": [],
   "source": [
    "def my_sum(*nums):\n",
    "    output = 0\n",
    "    for num in nums:\n",
    "        output += num\n",
    "    return output"
   ]
  },
  {
   "cell_type": "code",
   "execution_count": 6,
   "id": "tested-cooking",
   "metadata": {},
   "outputs": [
    {
     "data": {
      "text/plain": [
       "15"
      ]
     },
     "execution_count": 6,
     "metadata": {},
     "output_type": "execute_result"
    }
   ],
   "source": [
    "#test your function here\n",
    "my_sum(1, 2, 3, 4, 5)"
   ]
  },
  {
   "cell_type": "markdown",
   "id": "agreed-wyoming",
   "metadata": {},
   "source": [
    "#### Exercise 3.a: Write a function that takes two numbers as input and returns the largest number (without using \"max()\")"
   ]
  },
  {
   "cell_type": "code",
   "execution_count": 7,
   "id": "engaging-genome",
   "metadata": {},
   "outputs": [],
   "source": [
    "def my_max(n1, n2):\n",
    "    if n1 < n2:\n",
    "        return n2\n",
    "    else:\n",
    "        return n1"
   ]
  },
  {
   "cell_type": "code",
   "execution_count": 8,
   "id": "peripheral-edward",
   "metadata": {},
   "outputs": [
    {
     "data": {
      "text/plain": [
       "20"
      ]
     },
     "execution_count": 8,
     "metadata": {},
     "output_type": "execute_result"
    }
   ],
   "source": [
    "#test your function here\n",
    "my_max(10,20)"
   ]
  },
  {
   "cell_type": "markdown",
   "id": "paperback-amazon",
   "metadata": {},
   "source": [
    "#### Exercise 3.b: Write a function that takes three numbers as input and returns the largest of those number (without using \"max()\")"
   ]
  },
  {
   "cell_type": "code",
   "execution_count": 9,
   "id": "liable-second",
   "metadata": {},
   "outputs": [],
   "source": [
    "def my_max(n1, n2, n3):\n",
    "    if n1 < n2 and n3 < n2:\n",
    "        return n2\n",
    "    elif n1 < n3 and n2 < n3:\n",
    "        return n3\n",
    "    else:\n",
    "        return n1"
   ]
  },
  {
   "cell_type": "code",
   "execution_count": 10,
   "id": "attempted-philip",
   "metadata": {},
   "outputs": [
    {
     "data": {
      "text/plain": [
       "30"
      ]
     },
     "execution_count": 10,
     "metadata": {},
     "output_type": "execute_result"
    }
   ],
   "source": [
    "#test your function here\n",
    "my_max(10, 20, 30)"
   ]
  },
  {
   "cell_type": "markdown",
   "id": "sophisticated-deputy",
   "metadata": {},
   "source": [
    "#### Exercise 3.c: Write a function that takes any number of integers or floats as its arguments and that  returns the largest of those numbers. If less than two arguments are given as input, return \"Please provide at least two numbers\""
   ]
  },
  {
   "cell_type": "code",
   "execution_count": 11,
   "id": "generous-integration",
   "metadata": {},
   "outputs": [],
   "source": [
    "def my_max(*args):\n",
    "    if len(args) > 1: \n",
    "        for arg in args:\n",
    "            if arg == args[0]: # set a variable that keeps track of the largest number\n",
    "                largest_number = arg\n",
    "            if arg > largest_number:\n",
    "                largest_number = arg\n",
    "        return largest_number\n",
    "    else:\n",
    "        return \"Please provide at least two numbers\""
   ]
  },
  {
   "cell_type": "code",
   "execution_count": 12,
   "id": "liquid-optics",
   "metadata": {},
   "outputs": [
    {
     "data": {
      "text/plain": [
       "1"
      ]
     },
     "execution_count": 12,
     "metadata": {},
     "output_type": "execute_result"
    }
   ],
   "source": [
    "#test your function here\n",
    "my_max(1, -500)"
   ]
  },
  {
   "cell_type": "markdown",
   "id": "fewer-large",
   "metadata": {},
   "source": [
    "#### Exercise 4: Create a function that behaves similarly to the .pop() list method\n",
    "- Define a function that takes a list and an index (-1 by default) as input\n",
    "- Modify the list so that the item at the position of the index is removed (without using \"pop()\")\n",
    "- Return a tuple containing the modified list and the deleted element"
   ]
  },
  {
   "cell_type": "code",
   "execution_count": 13,
   "id": "pharmaceutical-ethiopia",
   "metadata": {},
   "outputs": [],
   "source": [
    "def my_pop(lst, i=-1):\n",
    "    deleted_element = lst[i]\n",
    "    if i == 0:\n",
    "        lst = lst[1:]\n",
    "    elif i == -1:\n",
    "        lst = lst[:-1]\n",
    "    else:\n",
    "        lst = lst[:i] + lst[i+1:]\n",
    "    return lst, deleted_element"
   ]
  },
  {
   "cell_type": "code",
   "execution_count": 14,
   "id": "amateur-contemporary",
   "metadata": {},
   "outputs": [
    {
     "data": {
      "text/plain": [
       "([1, 2, 3, 4, 5], 6)"
      ]
     },
     "execution_count": 14,
     "metadata": {},
     "output_type": "execute_result"
    }
   ],
   "source": [
    "#test your function here\n",
    "x = [1, 2, 3, 4, 5, 6]\n",
    "my_pop(x)"
   ]
  },
  {
   "cell_type": "markdown",
   "id": "specified-receptor",
   "metadata": {},
   "source": [
    "#### Exercise 5: Write a function you can use to greet any number of people by printing \"Hello {name}\""
   ]
  },
  {
   "cell_type": "code",
   "execution_count": 15,
   "id": "neither-dinner",
   "metadata": {},
   "outputs": [],
   "source": [
    "def greet(*names):\n",
    "    for name in names:\n",
    "        print(f\"Hello, {name}!\")"
   ]
  },
  {
   "cell_type": "code",
   "execution_count": 16,
   "id": "accredited-concert",
   "metadata": {},
   "outputs": [
    {
     "name": "stdout",
     "output_type": "stream",
     "text": [
      "Hello, Walter!\n",
      "Hello, Mike!\n",
      "Hello, Jens!\n",
      "Hello, Ilia!\n",
      "Hello, Ben!\n"
     ]
    }
   ],
   "source": [
    "#test your function\n",
    "greet(\"Walter\", \"Mike\", \"Jens\", \"Ilia\", \"Ben\")"
   ]
  },
  {
   "cell_type": "markdown",
   "id": "electronic-emphasis",
   "metadata": {},
   "source": [
    "#### Exercise 6: Brag with movie knowledge\n",
    "- Write a function that accepts everything you know about a movie as positional arguments, e.g. (title='Forrest Gump', year='1994', etc.)\n",
    "- The function should return a dictionary in the style of {'title': 'Forrest Gump', ...} \n",
    "- To test if the function works: assign a variable name to the generated dictionary and print it (do this for a few of your favorite movies)"
   ]
  },
  {
   "cell_type": "code",
   "execution_count": 17,
   "id": "voluntary-right",
   "metadata": {},
   "outputs": [],
   "source": [
    "def movie_knowledge(**features):\n",
    "    return features"
   ]
  },
  {
   "cell_type": "code",
   "execution_count": 18,
   "id": "emerging-bulgarian",
   "metadata": {},
   "outputs": [],
   "source": [
    "forrest_gump = movie_knowledge(title='Forrest Gump', year='1994', main_actor='Tom Hanks')\n",
    "green_mile = movie_knowledge(title='The Green Mile', year='1999', main_actor='Tom Hanks')\n",
    "dark_knight = movie_knowledge(title='The Dark Knight', year='2008', main_actor='Christian Bale', main_character='Batman', villain='Joker')"
   ]
  },
  {
   "cell_type": "code",
   "execution_count": 19,
   "id": "occupied-refrigerator",
   "metadata": {},
   "outputs": [
    {
     "name": "stdout",
     "output_type": "stream",
     "text": [
      "{'title': 'Forrest Gump', 'year': '1994', 'main_actor': 'Tom Hanks'}\n",
      "{'title': 'The Green Mile', 'year': '1999', 'main_actor': 'Tom Hanks'}\n",
      "{'title': 'The Dark Knight', 'year': '2008', 'main_actor': 'Christian Bale', 'main_character': 'Batman', 'villain': 'Joker'}\n"
     ]
    }
   ],
   "source": [
    "# test function here\n",
    "print(forrest_gump)\n",
    "print(green_mile)\n",
    "print(dark_knight)"
   ]
  },
  {
   "cell_type": "markdown",
   "id": "random-young",
   "metadata": {},
   "source": [
    "#### Exercise 7: Preprocess text data using decomposition and functions within functions\n",
    "#### Assume you want to preprocess a corpus of text. Below, you can find the first lines of the first Harry Potter novel to experiment.\n",
    "- Create a function that accepts a sentence as input and returns a tokenized sentence (split across whitespace)\n",
    "- Create a function that accepts a sentence as input and returns a lowercased sentence\n",
    "- Create a function that accepts a list of sentences as input and that returns a list of preprocessed sentences (use the functions created in step 1 and 2)\n",
    "- The preprocessing function should allow you to pass arguments that determine whether you want to lowercase and/or tokenize (or not)\n",
    "- Make sure to include a description of your function so that \"help(your_function)\" displays information about how your function works"
   ]
  },
  {
   "cell_type": "code",
   "execution_count": 20,
   "id": "great-poetry",
   "metadata": {},
   "outputs": [],
   "source": [
    "corpus = [\"\"\"Mr. and Mrs. Dursley, of number four, Privet Drive, were proud to say that they were perfectly normal, \n",
    "thank you very much.\"\"\", \"\"\"They were the last people you’d expect to be involved in anything strange or mysterious,\n",
    "because they just didn’t hold with such nonsense.\"\"\", \"\"\"Mr. Dursley was the director of a firm called Grunnings,\n",
    "which made drills.\"\"\", \"\"\"He was a big, beefy man with hardly any neck, although he did have a very large mustache.\"\"\",\n",
    "\"\"\"Mrs. Dursley was thin and blonde and had nearly twice the usual amount of neck, \n",
    "which came in very useful as she spent so much of hertime craning over garden fences, spying on the neighbors.\"\"\", \n",
    "\"\"\"The Dursleys had a small son called Dudley and in their opinion there was no finer boy anywhere.\"\"\"]"
   ]
  },
  {
   "cell_type": "code",
   "execution_count": 21,
   "id": "binary-joining",
   "metadata": {},
   "outputs": [],
   "source": [
    "def Lowercase(sentence):\n",
    "    return sentence.lower()"
   ]
  },
  {
   "cell_type": "code",
   "execution_count": 22,
   "id": "described-caribbean",
   "metadata": {},
   "outputs": [],
   "source": [
    "def Tokenize(sentence):\n",
    "    return sentence.split()"
   ]
  },
  {
   "cell_type": "code",
   "execution_count": 23,
   "id": "future-simpson",
   "metadata": {},
   "outputs": [],
   "source": [
    "def preprocess(corpus, lowercase=True, tokenize=True):\n",
    "    \n",
    "    \"\"\"This function accepts a list of sentences as arguments and preprocesses them.\n",
    "    Preprocessing by default consists of lowercasing and tokenization.\"\"\"\n",
    "    \n",
    "    output = []\n",
    "    for s in corpus:\n",
    "        if lowercase:\n",
    "            s = Lowercase(s)\n",
    "        if tokenize:\n",
    "            s = Tokenize(s)\n",
    "        output.append(s)\n",
    "    return output"
   ]
  },
  {
   "cell_type": "code",
   "execution_count": 24,
   "id": "atlantic-course",
   "metadata": {},
   "outputs": [
    {
     "data": {
      "text/plain": [
       "[['mr.',\n",
       "  'and',\n",
       "  'mrs.',\n",
       "  'dursley,',\n",
       "  'of',\n",
       "  'number',\n",
       "  'four,',\n",
       "  'privet',\n",
       "  'drive,',\n",
       "  'were',\n",
       "  'proud',\n",
       "  'to',\n",
       "  'say',\n",
       "  'that',\n",
       "  'they',\n",
       "  'were',\n",
       "  'perfectly',\n",
       "  'normal,',\n",
       "  'thank',\n",
       "  'you',\n",
       "  'very',\n",
       "  'much.'],\n",
       " ['they',\n",
       "  'were',\n",
       "  'the',\n",
       "  'last',\n",
       "  'people',\n",
       "  'you’d',\n",
       "  'expect',\n",
       "  'to',\n",
       "  'be',\n",
       "  'involved',\n",
       "  'in',\n",
       "  'anything',\n",
       "  'strange',\n",
       "  'or',\n",
       "  'mysterious,',\n",
       "  'because',\n",
       "  'they',\n",
       "  'just',\n",
       "  'didn’t',\n",
       "  'hold',\n",
       "  'with',\n",
       "  'such',\n",
       "  'nonsense.'],\n",
       " ['mr.',\n",
       "  'dursley',\n",
       "  'was',\n",
       "  'the',\n",
       "  'director',\n",
       "  'of',\n",
       "  'a',\n",
       "  'firm',\n",
       "  'called',\n",
       "  'grunnings,',\n",
       "  'which',\n",
       "  'made',\n",
       "  'drills.'],\n",
       " ['he',\n",
       "  'was',\n",
       "  'a',\n",
       "  'big,',\n",
       "  'beefy',\n",
       "  'man',\n",
       "  'with',\n",
       "  'hardly',\n",
       "  'any',\n",
       "  'neck,',\n",
       "  'although',\n",
       "  'he',\n",
       "  'did',\n",
       "  'have',\n",
       "  'a',\n",
       "  'very',\n",
       "  'large',\n",
       "  'mustache.'],\n",
       " ['mrs.',\n",
       "  'dursley',\n",
       "  'was',\n",
       "  'thin',\n",
       "  'and',\n",
       "  'blonde',\n",
       "  'and',\n",
       "  'had',\n",
       "  'nearly',\n",
       "  'twice',\n",
       "  'the',\n",
       "  'usual',\n",
       "  'amount',\n",
       "  'of',\n",
       "  'neck,',\n",
       "  'which',\n",
       "  'came',\n",
       "  'in',\n",
       "  'very',\n",
       "  'useful',\n",
       "  'as',\n",
       "  'she',\n",
       "  'spent',\n",
       "  'so',\n",
       "  'much',\n",
       "  'of',\n",
       "  'hertime',\n",
       "  'craning',\n",
       "  'over',\n",
       "  'garden',\n",
       "  'fences,',\n",
       "  'spying',\n",
       "  'on',\n",
       "  'the',\n",
       "  'neighbors.'],\n",
       " ['the',\n",
       "  'dursleys',\n",
       "  'had',\n",
       "  'a',\n",
       "  'small',\n",
       "  'son',\n",
       "  'called',\n",
       "  'dudley',\n",
       "  'and',\n",
       "  'in',\n",
       "  'their',\n",
       "  'opinion',\n",
       "  'there',\n",
       "  'was',\n",
       "  'no',\n",
       "  'finer',\n",
       "  'boy',\n",
       "  'anywhere.']]"
      ]
     },
     "execution_count": 24,
     "metadata": {},
     "output_type": "execute_result"
    }
   ],
   "source": [
    "# test preprocessing function here\n",
    "preprocess(corpus)"
   ]
  },
  {
   "cell_type": "code",
   "execution_count": 25,
   "id": "editorial-virgin",
   "metadata": {},
   "outputs": [
    {
     "name": "stdout",
     "output_type": "stream",
     "text": [
      "Help on function preprocess in module __main__:\n",
      "\n",
      "preprocess(corpus, lowercase=True, tokenize=True)\n",
      "    This function accepts a list of sentences as arguments and preprocesses them.\n",
      "    Preprocessing by default consists of lowercasing and tokenization.\n",
      "\n"
     ]
    }
   ],
   "source": [
    "# test \"help(your_function)\"\" here\n",
    "help(preprocess)"
   ]
  },
  {
   "cell_type": "markdown",
   "id": "trying-conducting",
   "metadata": {},
   "source": [
    "#### Exercise 8: Google what the following existing functions do and what arguments they take\n",
    "- random.random()\n",
    "- random.randint()\n",
    "- random.shuffle()\n",
    "- random.sample()\n",
    "- math.sqrt()\n",
    "- math.pow()\n",
    "- round()\n",
    "- help()"
   ]
  },
  {
   "cell_type": "code",
   "execution_count": 26,
   "id": "behavioral-optimization",
   "metadata": {},
   "outputs": [],
   "source": [
    "import random\n",
    "import math"
   ]
  },
  {
   "cell_type": "code",
   "execution_count": 27,
   "id": "precise-synthetic",
   "metadata": {},
   "outputs": [
    {
     "data": {
      "text/plain": [
       "0.3041169198814486"
      ]
     },
     "execution_count": 27,
     "metadata": {},
     "output_type": "execute_result"
    }
   ],
   "source": [
    "random.random() # returns random float between 0 and 1"
   ]
  },
  {
   "cell_type": "code",
   "execution_count": 28,
   "id": "boring-sally",
   "metadata": {},
   "outputs": [
    {
     "data": {
      "text/plain": [
       "4"
      ]
     },
     "execution_count": 28,
     "metadata": {},
     "output_type": "execute_result"
    }
   ],
   "source": [
    "random.randint(1,10) # returns random integer between the initial value (1st input param) and end value (2ndinput param)"
   ]
  },
  {
   "cell_type": "code",
   "execution_count": 29,
   "id": "younger-compression",
   "metadata": {},
   "outputs": [
    {
     "data": {
      "text/plain": [
       "[4, 1, 3, 5, 2]"
      ]
     },
     "execution_count": 29,
     "metadata": {},
     "output_type": "execute_result"
    }
   ],
   "source": [
    "x = [1, 2, 3, 4, 5] \n",
    "random.shuffle(x) # shuffles input inplace\n",
    "x"
   ]
  },
  {
   "cell_type": "code",
   "execution_count": 30,
   "id": "distant-throat",
   "metadata": {},
   "outputs": [
    {
     "data": {
      "text/plain": [
       "[1, 2]"
      ]
     },
     "execution_count": 30,
     "metadata": {},
     "output_type": "execute_result"
    }
   ],
   "source": [
    "sample = random.sample(x, 2) \n",
    "sample\n",
    "# accepts (population, sample_size) as input and returns a sample of the population of size sample_size"
   ]
  },
  {
   "cell_type": "code",
   "execution_count": 31,
   "id": "pregnant-panama",
   "metadata": {},
   "outputs": [
    {
     "data": {
      "text/plain": [
       "4.0"
      ]
     },
     "execution_count": 31,
     "metadata": {},
     "output_type": "execute_result"
    }
   ],
   "source": [
    "math.sqrt(16) # accepts a number as input and returns the square root of that number"
   ]
  },
  {
   "cell_type": "code",
   "execution_count": 32,
   "id": "expanded-pantyhose",
   "metadata": {},
   "outputs": [
    {
     "data": {
      "text/plain": [
       "16.0"
      ]
     },
     "execution_count": 32,
     "metadata": {},
     "output_type": "execute_result"
    }
   ],
   "source": [
    "math.pow(4, 2) # accepts a number and a power as input and returns the power of that number"
   ]
  },
  {
   "cell_type": "code",
   "execution_count": 33,
   "id": "careful-brooks",
   "metadata": {},
   "outputs": [
    {
     "data": {
      "text/plain": [
       "10.42"
      ]
     },
     "execution_count": 33,
     "metadata": {},
     "output_type": "execute_result"
    }
   ],
   "source": [
    "round(10.416846, 2) \n",
    "# rounds a float, accepts a float as first input parameter \n",
    "# and the desired number of digits after the comma as second parameter"
   ]
  },
  {
   "cell_type": "code",
   "execution_count": 34,
   "id": "revised-spice",
   "metadata": {},
   "outputs": [
    {
     "name": "stdout",
     "output_type": "stream",
     "text": [
      "Help on module random:\n",
      "\n",
      "NAME\n",
      "    random - Random variable generators.\n",
      "\n",
      "MODULE REFERENCE\n",
      "    https://docs.python.org/3.7/library/random\n",
      "    \n",
      "    The following documentation is automatically generated from the Python\n",
      "    source files.  It may be incomplete, incorrect or include features that\n",
      "    are considered implementation detail and may vary between Python\n",
      "    implementations.  When in doubt, consult the module reference at the\n",
      "    location listed above.\n",
      "\n",
      "DESCRIPTION\n",
      "        integers\n",
      "        --------\n",
      "               uniform within range\n",
      "    \n",
      "        sequences\n",
      "        ---------\n",
      "               pick random element\n",
      "               pick random sample\n",
      "               pick weighted random sample\n",
      "               generate random permutation\n",
      "    \n",
      "        distributions on the real line:\n",
      "        ------------------------------\n",
      "               uniform\n",
      "               triangular\n",
      "               normal (Gaussian)\n",
      "               lognormal\n",
      "               negative exponential\n",
      "               gamma\n",
      "               beta\n",
      "               pareto\n",
      "               Weibull\n",
      "    \n",
      "        distributions on the circle (angles 0 to 2pi)\n",
      "        ---------------------------------------------\n",
      "               circular uniform\n",
      "               von Mises\n",
      "    \n",
      "    General notes on the underlying Mersenne Twister core generator:\n",
      "    \n",
      "    * The period is 2**19937-1.\n",
      "    * It is one of the most extensively tested generators in existence.\n",
      "    * The random() method is implemented in C, executes in a single Python step,\n",
      "      and is, therefore, threadsafe.\n",
      "\n",
      "CLASSES\n",
      "    _random.Random(builtins.object)\n",
      "        Random\n",
      "            SystemRandom\n",
      "    \n",
      "    class Random(_random.Random)\n",
      "     |  Random(x=None)\n",
      "     |  \n",
      "     |  Random number generator base class used by bound module functions.\n",
      "     |  \n",
      "     |  Used to instantiate instances of Random to get generators that don't\n",
      "     |  share state.\n",
      "     |  \n",
      "     |  Class Random can also be subclassed if you want to use a different basic\n",
      "     |  generator of your own devising: in that case, override the following\n",
      "     |  methods:  random(), seed(), getstate(), and setstate().\n",
      "     |  Optionally, implement a getrandbits() method so that randrange()\n",
      "     |  can cover arbitrarily large ranges.\n",
      "     |  \n",
      "     |  Method resolution order:\n",
      "     |      Random\n",
      "     |      _random.Random\n",
      "     |      builtins.object\n",
      "     |  \n",
      "     |  Methods defined here:\n",
      "     |  \n",
      "     |  __getstate__(self)\n",
      "     |      # Issue 17489: Since __reduce__ was defined to fix #759889 this is no\n",
      "     |      # longer called; we leave it here because it has been here since random was\n",
      "     |      # rewritten back in 2001 and why risk breaking something.\n",
      "     |  \n",
      "     |  __init__(self, x=None)\n",
      "     |      Initialize an instance.\n",
      "     |      \n",
      "     |      Optional argument x controls seeding, as for Random.seed().\n",
      "     |  \n",
      "     |  __reduce__(self)\n",
      "     |      Helper for pickle.\n",
      "     |  \n",
      "     |  __setstate__(self, state)\n",
      "     |  \n",
      "     |  betavariate(self, alpha, beta)\n",
      "     |      Beta distribution.\n",
      "     |      \n",
      "     |      Conditions on the parameters are alpha > 0 and beta > 0.\n",
      "     |      Returned values range between 0 and 1.\n",
      "     |  \n",
      "     |  choice(self, seq)\n",
      "     |      Choose a random element from a non-empty sequence.\n",
      "     |  \n",
      "     |  choices(self, population, weights=None, *, cum_weights=None, k=1)\n",
      "     |      Return a k sized list of population elements chosen with replacement.\n",
      "     |      \n",
      "     |      If the relative weights or cumulative weights are not specified,\n",
      "     |      the selections are made with equal probability.\n",
      "     |  \n",
      "     |  expovariate(self, lambd)\n",
      "     |      Exponential distribution.\n",
      "     |      \n",
      "     |      lambd is 1.0 divided by the desired mean.  It should be\n",
      "     |      nonzero.  (The parameter would be called \"lambda\", but that is\n",
      "     |      a reserved word in Python.)  Returned values range from 0 to\n",
      "     |      positive infinity if lambd is positive, and from negative\n",
      "     |      infinity to 0 if lambd is negative.\n",
      "     |  \n",
      "     |  gammavariate(self, alpha, beta)\n",
      "     |      Gamma distribution.  Not the gamma function!\n",
      "     |      \n",
      "     |      Conditions on the parameters are alpha > 0 and beta > 0.\n",
      "     |      \n",
      "     |      The probability distribution function is:\n",
      "     |      \n",
      "     |                  x ** (alpha - 1) * math.exp(-x / beta)\n",
      "     |        pdf(x) =  --------------------------------------\n",
      "     |                    math.gamma(alpha) * beta ** alpha\n",
      "     |  \n",
      "     |  gauss(self, mu, sigma)\n",
      "     |      Gaussian distribution.\n",
      "     |      \n",
      "     |      mu is the mean, and sigma is the standard deviation.  This is\n",
      "     |      slightly faster than the normalvariate() function.\n",
      "     |      \n",
      "     |      Not thread-safe without a lock around calls.\n",
      "     |  \n",
      "     |  getstate(self)\n",
      "     |      Return internal state; can be passed to setstate() later.\n",
      "     |  \n",
      "     |  lognormvariate(self, mu, sigma)\n",
      "     |      Log normal distribution.\n",
      "     |      \n",
      "     |      If you take the natural logarithm of this distribution, you'll get a\n",
      "     |      normal distribution with mean mu and standard deviation sigma.\n",
      "     |      mu can have any value, and sigma must be greater than zero.\n",
      "     |  \n",
      "     |  normalvariate(self, mu, sigma)\n",
      "     |      Normal distribution.\n",
      "     |      \n",
      "     |      mu is the mean, and sigma is the standard deviation.\n",
      "     |  \n",
      "     |  paretovariate(self, alpha)\n",
      "     |      Pareto distribution.  alpha is the shape parameter.\n",
      "     |  \n",
      "     |  randint(self, a, b)\n",
      "     |      Return random integer in range [a, b], including both end points.\n",
      "     |  \n",
      "     |  randrange(self, start, stop=None, step=1, _int=<class 'int'>)\n",
      "     |      Choose a random item from range(start, stop[, step]).\n",
      "     |      \n",
      "     |      This fixes the problem with randint() which includes the\n",
      "     |      endpoint; in Python this is usually not what you want.\n",
      "     |  \n",
      "     |  sample(self, population, k)\n",
      "     |      Chooses k unique random elements from a population sequence or set.\n",
      "     |      \n",
      "     |      Returns a new list containing elements from the population while\n",
      "     |      leaving the original population unchanged.  The resulting list is\n",
      "     |      in selection order so that all sub-slices will also be valid random\n",
      "     |      samples.  This allows raffle winners (the sample) to be partitioned\n",
      "     |      into grand prize and second place winners (the subslices).\n",
      "     |      \n",
      "     |      Members of the population need not be hashable or unique.  If the\n",
      "     |      population contains repeats, then each occurrence is a possible\n",
      "     |      selection in the sample.\n",
      "     |      \n",
      "     |      To choose a sample in a range of integers, use range as an argument.\n",
      "     |      This is especially fast and space efficient for sampling from a\n",
      "     |      large population:   sample(range(10000000), 60)\n",
      "     |  \n",
      "     |  seed(self, a=None, version=2)\n",
      "     |      Initialize internal state from hashable object.\n",
      "     |      \n",
      "     |      None or no argument seeds from current time or from an operating\n",
      "     |      system specific randomness source if available.\n",
      "     |      \n",
      "     |      If *a* is an int, all bits are used.\n",
      "     |      \n",
      "     |      For version 2 (the default), all of the bits are used if *a* is a str,\n",
      "     |      bytes, or bytearray.  For version 1 (provided for reproducing random\n",
      "     |      sequences from older versions of Python), the algorithm for str and\n",
      "     |      bytes generates a narrower range of seeds.\n",
      "     |  \n",
      "     |  setstate(self, state)\n",
      "     |      Restore internal state from object returned by getstate().\n",
      "     |  \n",
      "     |  shuffle(self, x, random=None)\n",
      "     |      Shuffle list x in place, and return None.\n",
      "     |      \n",
      "     |      Optional argument random is a 0-argument function returning a\n",
      "     |      random float in [0.0, 1.0); if it is the default None, the\n",
      "     |      standard random.random will be used.\n",
      "     |  \n",
      "     |  triangular(self, low=0.0, high=1.0, mode=None)\n",
      "     |      Triangular distribution.\n",
      "     |      \n",
      "     |      Continuous distribution bounded by given lower and upper limits,\n",
      "     |      and having a given mode value in-between.\n",
      "     |      \n",
      "     |      http://en.wikipedia.org/wiki/Triangular_distribution\n",
      "     |  \n",
      "     |  uniform(self, a, b)\n",
      "     |      Get a random number in the range [a, b) or [a, b] depending on rounding.\n",
      "     |  \n",
      "     |  vonmisesvariate(self, mu, kappa)\n",
      "     |      Circular data distribution.\n",
      "     |      \n",
      "     |      mu is the mean angle, expressed in radians between 0 and 2*pi, and\n",
      "     |      kappa is the concentration parameter, which must be greater than or\n",
      "     |      equal to zero.  If kappa is equal to zero, this distribution reduces\n",
      "     |      to a uniform random angle over the range 0 to 2*pi.\n",
      "     |  \n",
      "     |  weibullvariate(self, alpha, beta)\n",
      "     |      Weibull distribution.\n",
      "     |      \n",
      "     |      alpha is the scale parameter and beta is the shape parameter.\n",
      "     |  \n",
      "     |  ----------------------------------------------------------------------\n",
      "     |  Data descriptors defined here:\n",
      "     |  \n",
      "     |  __dict__\n",
      "     |      dictionary for instance variables (if defined)\n",
      "     |  \n",
      "     |  __weakref__\n",
      "     |      list of weak references to the object (if defined)\n",
      "     |  \n",
      "     |  ----------------------------------------------------------------------\n",
      "     |  Data and other attributes defined here:\n",
      "     |  \n",
      "     |  VERSION = 3\n",
      "     |  \n",
      "     |  ----------------------------------------------------------------------\n",
      "     |  Methods inherited from _random.Random:\n",
      "     |  \n",
      "     |  __getattribute__(self, name, /)\n",
      "     |      Return getattr(self, name).\n",
      "     |  \n",
      "     |  getrandbits(...)\n",
      "     |      getrandbits(k) -> x.  Generates an int with k random bits.\n",
      "     |  \n",
      "     |  random(...)\n",
      "     |      random() -> x in the interval [0, 1).\n",
      "     |  \n",
      "     |  ----------------------------------------------------------------------\n",
      "     |  Static methods inherited from _random.Random:\n",
      "     |  \n",
      "     |  __new__(*args, **kwargs) from builtins.type\n",
      "     |      Create and return a new object.  See help(type) for accurate signature.\n",
      "    \n",
      "    class SystemRandom(Random)\n",
      "     |  SystemRandom(x=None)\n",
      "     |  \n",
      "     |  Alternate random number generator using sources provided\n",
      "     |  by the operating system (such as /dev/urandom on Unix or\n",
      "     |  CryptGenRandom on Windows).\n",
      "     |  \n",
      "     |   Not available on all systems (see os.urandom() for details).\n",
      "     |  \n",
      "     |  Method resolution order:\n",
      "     |      SystemRandom\n",
      "     |      Random\n",
      "     |      _random.Random\n",
      "     |      builtins.object\n",
      "     |  \n",
      "     |  Methods defined here:\n",
      "     |  \n",
      "     |  getrandbits(self, k)\n",
      "     |      getrandbits(k) -> x.  Generates an int with k random bits.\n",
      "     |  \n",
      "     |  getstate = _notimplemented(self, *args, **kwds)\n",
      "     |  \n",
      "     |  random(self)\n",
      "     |      Get the next random number in the range [0.0, 1.0).\n",
      "     |  \n",
      "     |  seed(self, *args, **kwds)\n",
      "     |      Stub method.  Not used for a system random number generator.\n",
      "     |  \n",
      "     |  setstate = _notimplemented(self, *args, **kwds)\n",
      "     |  \n",
      "     |  ----------------------------------------------------------------------\n",
      "     |  Methods inherited from Random:\n",
      "     |  \n",
      "     |  __getstate__(self)\n",
      "     |      # Issue 17489: Since __reduce__ was defined to fix #759889 this is no\n",
      "     |      # longer called; we leave it here because it has been here since random was\n",
      "     |      # rewritten back in 2001 and why risk breaking something.\n",
      "     |  \n",
      "     |  __init__(self, x=None)\n",
      "     |      Initialize an instance.\n",
      "     |      \n",
      "     |      Optional argument x controls seeding, as for Random.seed().\n",
      "     |  \n",
      "     |  __reduce__(self)\n",
      "     |      Helper for pickle.\n",
      "     |  \n",
      "     |  __setstate__(self, state)\n",
      "     |  \n",
      "     |  betavariate(self, alpha, beta)\n",
      "     |      Beta distribution.\n",
      "     |      \n",
      "     |      Conditions on the parameters are alpha > 0 and beta > 0.\n",
      "     |      Returned values range between 0 and 1.\n",
      "     |  \n",
      "     |  choice(self, seq)\n",
      "     |      Choose a random element from a non-empty sequence.\n",
      "     |  \n",
      "     |  choices(self, population, weights=None, *, cum_weights=None, k=1)\n",
      "     |      Return a k sized list of population elements chosen with replacement.\n",
      "     |      \n",
      "     |      If the relative weights or cumulative weights are not specified,\n",
      "     |      the selections are made with equal probability.\n",
      "     |  \n",
      "     |  expovariate(self, lambd)\n",
      "     |      Exponential distribution.\n",
      "     |      \n",
      "     |      lambd is 1.0 divided by the desired mean.  It should be\n",
      "     |      nonzero.  (The parameter would be called \"lambda\", but that is\n",
      "     |      a reserved word in Python.)  Returned values range from 0 to\n",
      "     |      positive infinity if lambd is positive, and from negative\n",
      "     |      infinity to 0 if lambd is negative.\n",
      "     |  \n",
      "     |  gammavariate(self, alpha, beta)\n",
      "     |      Gamma distribution.  Not the gamma function!\n",
      "     |      \n",
      "     |      Conditions on the parameters are alpha > 0 and beta > 0.\n",
      "     |      \n",
      "     |      The probability distribution function is:\n",
      "     |      \n",
      "     |                  x ** (alpha - 1) * math.exp(-x / beta)\n",
      "     |        pdf(x) =  --------------------------------------\n",
      "     |                    math.gamma(alpha) * beta ** alpha\n",
      "     |  \n",
      "     |  gauss(self, mu, sigma)\n",
      "     |      Gaussian distribution.\n",
      "     |      \n",
      "     |      mu is the mean, and sigma is the standard deviation.  This is\n",
      "     |      slightly faster than the normalvariate() function.\n",
      "     |      \n",
      "     |      Not thread-safe without a lock around calls.\n",
      "     |  \n",
      "     |  lognormvariate(self, mu, sigma)\n",
      "     |      Log normal distribution.\n",
      "     |      \n",
      "     |      If you take the natural logarithm of this distribution, you'll get a\n",
      "     |      normal distribution with mean mu and standard deviation sigma.\n",
      "     |      mu can have any value, and sigma must be greater than zero.\n",
      "     |  \n",
      "     |  normalvariate(self, mu, sigma)\n",
      "     |      Normal distribution.\n",
      "     |      \n",
      "     |      mu is the mean, and sigma is the standard deviation.\n",
      "     |  \n",
      "     |  paretovariate(self, alpha)\n",
      "     |      Pareto distribution.  alpha is the shape parameter.\n",
      "     |  \n",
      "     |  randint(self, a, b)\n",
      "     |      Return random integer in range [a, b], including both end points.\n",
      "     |  \n",
      "     |  randrange(self, start, stop=None, step=1, _int=<class 'int'>)\n",
      "     |      Choose a random item from range(start, stop[, step]).\n",
      "     |      \n",
      "     |      This fixes the problem with randint() which includes the\n",
      "     |      endpoint; in Python this is usually not what you want.\n",
      "     |  \n",
      "     |  sample(self, population, k)\n",
      "     |      Chooses k unique random elements from a population sequence or set.\n",
      "     |      \n",
      "     |      Returns a new list containing elements from the population while\n",
      "     |      leaving the original population unchanged.  The resulting list is\n",
      "     |      in selection order so that all sub-slices will also be valid random\n",
      "     |      samples.  This allows raffle winners (the sample) to be partitioned\n",
      "     |      into grand prize and second place winners (the subslices).\n",
      "     |      \n",
      "     |      Members of the population need not be hashable or unique.  If the\n",
      "     |      population contains repeats, then each occurrence is a possible\n",
      "     |      selection in the sample.\n",
      "     |      \n",
      "     |      To choose a sample in a range of integers, use range as an argument.\n",
      "     |      This is especially fast and space efficient for sampling from a\n",
      "     |      large population:   sample(range(10000000), 60)\n",
      "     |  \n",
      "     |  shuffle(self, x, random=None)\n",
      "     |      Shuffle list x in place, and return None.\n",
      "     |      \n",
      "     |      Optional argument random is a 0-argument function returning a\n",
      "     |      random float in [0.0, 1.0); if it is the default None, the\n",
      "     |      standard random.random will be used.\n",
      "     |  \n",
      "     |  triangular(self, low=0.0, high=1.0, mode=None)\n",
      "     |      Triangular distribution.\n",
      "     |      \n",
      "     |      Continuous distribution bounded by given lower and upper limits,\n",
      "     |      and having a given mode value in-between.\n",
      "     |      \n",
      "     |      http://en.wikipedia.org/wiki/Triangular_distribution\n",
      "     |  \n",
      "     |  uniform(self, a, b)\n",
      "     |      Get a random number in the range [a, b) or [a, b] depending on rounding.\n",
      "     |  \n",
      "     |  vonmisesvariate(self, mu, kappa)\n",
      "     |      Circular data distribution.\n",
      "     |      \n",
      "     |      mu is the mean angle, expressed in radians between 0 and 2*pi, and\n",
      "     |      kappa is the concentration parameter, which must be greater than or\n",
      "     |      equal to zero.  If kappa is equal to zero, this distribution reduces\n",
      "     |      to a uniform random angle over the range 0 to 2*pi.\n",
      "     |  \n",
      "     |  weibullvariate(self, alpha, beta)\n",
      "     |      Weibull distribution.\n",
      "     |      \n",
      "     |      alpha is the scale parameter and beta is the shape parameter.\n",
      "     |  \n",
      "     |  ----------------------------------------------------------------------\n",
      "     |  Data descriptors inherited from Random:\n",
      "     |  \n",
      "     |  __dict__\n",
      "     |      dictionary for instance variables (if defined)\n",
      "     |  \n",
      "     |  __weakref__\n",
      "     |      list of weak references to the object (if defined)\n",
      "     |  \n",
      "     |  ----------------------------------------------------------------------\n",
      "     |  Data and other attributes inherited from Random:\n",
      "     |  \n",
      "     |  VERSION = 3\n",
      "     |  \n",
      "     |  ----------------------------------------------------------------------\n",
      "     |  Methods inherited from _random.Random:\n",
      "     |  \n",
      "     |  __getattribute__(self, name, /)\n",
      "     |      Return getattr(self, name).\n",
      "     |  \n",
      "     |  ----------------------------------------------------------------------\n",
      "     |  Static methods inherited from _random.Random:\n",
      "     |  \n",
      "     |  __new__(*args, **kwargs) from builtins.type\n",
      "     |      Create and return a new object.  See help(type) for accurate signature.\n",
      "\n",
      "FUNCTIONS\n",
      "    betavariate(alpha, beta) method of Random instance\n",
      "        Beta distribution.\n",
      "        \n",
      "        Conditions on the parameters are alpha > 0 and beta > 0.\n",
      "        Returned values range between 0 and 1.\n",
      "    \n",
      "    choice(seq) method of Random instance\n",
      "        Choose a random element from a non-empty sequence.\n",
      "    \n",
      "    choices(population, weights=None, *, cum_weights=None, k=1) method of Random instance\n",
      "        Return a k sized list of population elements chosen with replacement.\n",
      "        \n",
      "        If the relative weights or cumulative weights are not specified,\n",
      "        the selections are made with equal probability.\n",
      "    \n",
      "    expovariate(lambd) method of Random instance\n",
      "        Exponential distribution.\n",
      "        \n",
      "        lambd is 1.0 divided by the desired mean.  It should be\n",
      "        nonzero.  (The parameter would be called \"lambda\", but that is\n",
      "        a reserved word in Python.)  Returned values range from 0 to\n",
      "        positive infinity if lambd is positive, and from negative\n",
      "        infinity to 0 if lambd is negative.\n",
      "    \n",
      "    gammavariate(alpha, beta) method of Random instance\n",
      "        Gamma distribution.  Not the gamma function!\n",
      "        \n",
      "        Conditions on the parameters are alpha > 0 and beta > 0.\n",
      "        \n",
      "        The probability distribution function is:\n",
      "        \n",
      "                    x ** (alpha - 1) * math.exp(-x / beta)\n",
      "          pdf(x) =  --------------------------------------\n",
      "                      math.gamma(alpha) * beta ** alpha\n",
      "    \n",
      "    gauss(mu, sigma) method of Random instance\n",
      "        Gaussian distribution.\n",
      "        \n",
      "        mu is the mean, and sigma is the standard deviation.  This is\n",
      "        slightly faster than the normalvariate() function.\n",
      "        \n",
      "        Not thread-safe without a lock around calls.\n",
      "    \n",
      "    getrandbits(...) method of Random instance\n",
      "        getrandbits(k) -> x.  Generates an int with k random bits.\n",
      "    \n",
      "    getstate() method of Random instance\n",
      "        Return internal state; can be passed to setstate() later.\n",
      "    \n",
      "    lognormvariate(mu, sigma) method of Random instance\n",
      "        Log normal distribution.\n",
      "        \n",
      "        If you take the natural logarithm of this distribution, you'll get a\n",
      "        normal distribution with mean mu and standard deviation sigma.\n",
      "        mu can have any value, and sigma must be greater than zero.\n",
      "    \n",
      "    normalvariate(mu, sigma) method of Random instance\n",
      "        Normal distribution.\n",
      "        \n",
      "        mu is the mean, and sigma is the standard deviation.\n",
      "    \n",
      "    paretovariate(alpha) method of Random instance\n",
      "        Pareto distribution.  alpha is the shape parameter.\n",
      "    \n",
      "    randint(a, b) method of Random instance\n",
      "        Return random integer in range [a, b], including both end points.\n",
      "    \n",
      "    random(...) method of Random instance\n",
      "        random() -> x in the interval [0, 1).\n",
      "    \n",
      "    randrange(start, stop=None, step=1, _int=<class 'int'>) method of Random instance\n",
      "        Choose a random item from range(start, stop[, step]).\n",
      "        \n",
      "        This fixes the problem with randint() which includes the\n",
      "        endpoint; in Python this is usually not what you want.\n",
      "    \n",
      "    sample(population, k) method of Random instance\n",
      "        Chooses k unique random elements from a population sequence or set.\n",
      "        \n",
      "        Returns a new list containing elements from the population while\n",
      "        leaving the original population unchanged.  The resulting list is\n",
      "        in selection order so that all sub-slices will also be valid random\n",
      "        samples.  This allows raffle winners (the sample) to be partitioned\n",
      "        into grand prize and second place winners (the subslices).\n",
      "        \n",
      "        Members of the population need not be hashable or unique.  If the\n",
      "        population contains repeats, then each occurrence is a possible\n",
      "        selection in the sample.\n",
      "        \n",
      "        To choose a sample in a range of integers, use range as an argument.\n",
      "        This is especially fast and space efficient for sampling from a\n",
      "        large population:   sample(range(10000000), 60)\n",
      "    \n",
      "    seed(a=None, version=2) method of Random instance\n",
      "        Initialize internal state from hashable object.\n",
      "        \n",
      "        None or no argument seeds from current time or from an operating\n",
      "        system specific randomness source if available.\n",
      "        \n",
      "        If *a* is an int, all bits are used.\n",
      "        \n",
      "        For version 2 (the default), all of the bits are used if *a* is a str,\n",
      "        bytes, or bytearray.  For version 1 (provided for reproducing random\n",
      "        sequences from older versions of Python), the algorithm for str and\n",
      "        bytes generates a narrower range of seeds.\n",
      "    \n",
      "    setstate(state) method of Random instance\n",
      "        Restore internal state from object returned by getstate().\n",
      "    \n",
      "    shuffle(x, random=None) method of Random instance\n",
      "        Shuffle list x in place, and return None.\n",
      "        \n",
      "        Optional argument random is a 0-argument function returning a\n",
      "        random float in [0.0, 1.0); if it is the default None, the\n",
      "        standard random.random will be used.\n",
      "    \n",
      "    triangular(low=0.0, high=1.0, mode=None) method of Random instance\n",
      "        Triangular distribution.\n",
      "        \n",
      "        Continuous distribution bounded by given lower and upper limits,\n",
      "        and having a given mode value in-between.\n",
      "        \n",
      "        http://en.wikipedia.org/wiki/Triangular_distribution\n",
      "    \n",
      "    uniform(a, b) method of Random instance\n",
      "        Get a random number in the range [a, b) or [a, b] depending on rounding.\n",
      "    \n",
      "    vonmisesvariate(mu, kappa) method of Random instance\n",
      "        Circular data distribution.\n",
      "        \n",
      "        mu is the mean angle, expressed in radians between 0 and 2*pi, and\n",
      "        kappa is the concentration parameter, which must be greater than or\n",
      "        equal to zero.  If kappa is equal to zero, this distribution reduces\n",
      "        to a uniform random angle over the range 0 to 2*pi.\n",
      "    \n",
      "    weibullvariate(alpha, beta) method of Random instance\n",
      "        Weibull distribution.\n",
      "        \n",
      "        alpha is the scale parameter and beta is the shape parameter.\n",
      "\n",
      "DATA\n",
      "    __all__ = ['Random', 'seed', 'random', 'uniform', 'randint', 'choice',...\n",
      "\n",
      "FILE\n",
      "    c:\\users\\jensl\\anaconda3\\lib\\random.py\n",
      "\n",
      "\n"
     ]
    }
   ],
   "source": [
    "help(random) # displays information about the input object"
   ]
  },
  {
   "cell_type": "code",
   "execution_count": null,
   "id": "significant-frederick",
   "metadata": {},
   "outputs": [],
   "source": []
  }
 ],
 "metadata": {
  "kernelspec": {
   "display_name": "Python 3 (ipykernel)",
   "language": "python",
   "name": "python3"
  },
  "language_info": {
   "codemirror_mode": {
    "name": "ipython",
    "version": 3
   },
   "file_extension": ".py",
   "mimetype": "text/x-python",
   "name": "python",
   "nbconvert_exporter": "python",
   "pygments_lexer": "ipython3",
   "version": "3.7.9"
  }
 },
 "nbformat": 4,
 "nbformat_minor": 5
}
